{
 "cells": [
  {
   "cell_type": "markdown",
   "metadata": {},
   "source": [
    "# Introduction:\n",
    "For our final project we looked through different datasets that lead us to finding Squirrel Hill South as the best neighborhood in Pittsburgh. We did this through analyzing data from three different datasets and then combining this data to fit our metric. In order to come up with our metric, each member of our group found a dataset that interested them, and from these datasets we came up with a metric that fit all three. As an alternative, we could have came up with our metric and then explored datasets that fit this metric. Also, we have //not completed\n"
   ]
  },
  {
   "cell_type": "markdown",
   "metadata": {},
   "source": [
    "# The Metric:\n",
    "Our metric explores which neighborhood has is the best in terms of a well-rounded life. To determine this, we use datasets that show the median death age for each neighborhood, information on playgrounds, and data on street art in each neighborhood. For the playground data set, we took into account the number of playgrounds in each neighborhood that were ADA accessible. "
   ]
  },
  {
   "cell_type": "markdown",
   "metadata": {},
   "source": [
    "# The Best Neighborhood:\n",
    "## Squirrel Hill South"
   ]
  },
  {
   "cell_type": "code",
   "execution_count": null,
   "metadata": {},
   "outputs": [],
   "source": [
    "import pandas as pd\n",
    "import numpy as np\n",
    "%matplotlib inline\n",
    "import matplotlib.pyplot as plt\n",
    "\n",
    "play = pd.read_csv(\"https://data.wprdc.org/datastore/dump/e39ef76e-0a11-47c8-a86f-a37f55db7a2b\")\n",
    "public_art_data = pd.read_csv(\"public-art.csv\", index_col=\"id\")"
   ]
  },
  {
   "cell_type": "markdown",
   "metadata": {},
   "source": [
    "# Conclusions:\n",
    "## Hannah: \n",
    "Honestly, I do not have any experience with Pittsburgh neighborhoods. I've been living on campus, so I only know a very small amount of information about Oakland. I hadn't even heard of most of the neighborhoods I was gathering data on, but I have been through Squirrel Hill South on a bus before. It looks nice enough, and as far as our data shows, it proves to be the best neighborhoods in Pittsburgh. "
   ]
  },
  {
   "cell_type": "code",
   "execution_count": null,
   "metadata": {},
   "outputs": [],
   "source": []
  }
 ],
 "metadata": {
  "kernelspec": {
   "display_name": "Python 3",
   "language": "python",
   "name": "python3"
  },
  "language_info": {
   "codemirror_mode": {
    "name": "ipython",
    "version": 3
   },
   "file_extension": ".py",
   "mimetype": "text/x-python",
   "name": "python",
   "nbconvert_exporter": "python",
   "pygments_lexer": "ipython3",
   "version": "3.8.3"
  }
 },
 "nbformat": 4,
 "nbformat_minor": 4
}
