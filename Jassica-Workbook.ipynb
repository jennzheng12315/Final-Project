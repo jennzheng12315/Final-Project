{
 "cells": [
  {
   "cell_type": "markdown",
   "metadata": {},
   "source": [
    "Link to dataset: https://data.wprdc.org/dataset/median-age-death/resource/c2e1500a-a12a-4e91-be94-76c6a892b7e2\n"
   ]
  },
  {
   "cell_type": "code",
   "execution_count": 48,
   "metadata": {},
   "outputs": [
    {
     "data": {
      "text/html": [
       "<div>\n",
       "<style scoped>\n",
       "    .dataframe tbody tr th:only-of-type {\n",
       "        vertical-align: middle;\n",
       "    }\n",
       "\n",
       "    .dataframe tbody tr th {\n",
       "        vertical-align: top;\n",
       "    }\n",
       "\n",
       "    .dataframe thead th {\n",
       "        text-align: right;\n",
       "    }\n",
       "</style>\n",
       "<table border=\"1\" class=\"dataframe\">\n",
       "  <thead>\n",
       "    <tr style=\"text-align: right;\">\n",
       "      <th></th>\n",
       "      <th>NEIGHBORHOOD</th>\n",
       "      <th>BLACKdeaths</th>\n",
       "      <th>Black MD AGE AT DEATH</th>\n",
       "      <th>WHITEdeaths</th>\n",
       "      <th>White MD AGE AT DEATH</th>\n",
       "      <th>TOTALdeaths*</th>\n",
       "      <th>TOTAL MD AGE AT DEATH</th>\n",
       "    </tr>\n",
       "  </thead>\n",
       "  <tbody>\n",
       "    <tr>\n",
       "      <th>89</th>\n",
       "      <td>SQUIRREL HILL SOUTH</td>\n",
       "      <td>58.0</td>\n",
       "      <td>83.2</td>\n",
       "      <td>721.0</td>\n",
       "      <td>86.2</td>\n",
       "      <td>802.0</td>\n",
       "      <td>85.9</td>\n",
       "    </tr>\n",
       "    <tr>\n",
       "      <th>76</th>\n",
       "      <td>NORTH OAKLAND</td>\n",
       "      <td>45.0</td>\n",
       "      <td>70.9</td>\n",
       "      <td>227.0</td>\n",
       "      <td>86.8</td>\n",
       "      <td>279.0</td>\n",
       "      <td>85.6</td>\n",
       "    </tr>\n",
       "    <tr>\n",
       "      <th>71</th>\n",
       "      <td>BANKSVILLE</td>\n",
       "      <td>4.0</td>\n",
       "      <td>NaN</td>\n",
       "      <td>247.0</td>\n",
       "      <td>85.5</td>\n",
       "      <td>253.0</td>\n",
       "      <td>85.5</td>\n",
       "    </tr>\n",
       "    <tr>\n",
       "      <th>53</th>\n",
       "      <td>POINT BREEZE</td>\n",
       "      <td>13.0</td>\n",
       "      <td>66.7</td>\n",
       "      <td>158.0</td>\n",
       "      <td>85.7</td>\n",
       "      <td>175.0</td>\n",
       "      <td>85.1</td>\n",
       "    </tr>\n",
       "    <tr>\n",
       "      <th>68</th>\n",
       "      <td>SQUIRREL HILL NORTH</td>\n",
       "      <td>6.0</td>\n",
       "      <td>75.0</td>\n",
       "      <td>231.0</td>\n",
       "      <td>85.3</td>\n",
       "      <td>242.0</td>\n",
       "      <td>85.0</td>\n",
       "    </tr>\n",
       "    <tr>\n",
       "      <th>20</th>\n",
       "      <td>CENTRAL OAKLAND</td>\n",
       "      <td>2.0</td>\n",
       "      <td>NaN</td>\n",
       "      <td>50.0</td>\n",
       "      <td>84.0</td>\n",
       "      <td>52.0</td>\n",
       "      <td>84.0</td>\n",
       "    </tr>\n",
       "    <tr>\n",
       "      <th>28</th>\n",
       "      <td>NEW HOMESTEAD</td>\n",
       "      <td>4.0</td>\n",
       "      <td>NaN</td>\n",
       "      <td>67.0</td>\n",
       "      <td>83.8</td>\n",
       "      <td>71.0</td>\n",
       "      <td>83.4</td>\n",
       "    </tr>\n",
       "    <tr>\n",
       "      <th>27</th>\n",
       "      <td>SWISSHELM PARK</td>\n",
       "      <td>0.0</td>\n",
       "      <td>0.0</td>\n",
       "      <td>67.0</td>\n",
       "      <td>83.1</td>\n",
       "      <td>67.0</td>\n",
       "      <td>83.1</td>\n",
       "    </tr>\n",
       "    <tr>\n",
       "      <th>77</th>\n",
       "      <td>OVERBROOK</td>\n",
       "      <td>4.0</td>\n",
       "      <td>NaN</td>\n",
       "      <td>284.0</td>\n",
       "      <td>82.5</td>\n",
       "      <td>289.0</td>\n",
       "      <td>82.2</td>\n",
       "    </tr>\n",
       "    <tr>\n",
       "      <th>83</th>\n",
       "      <td>SHADYSIDE</td>\n",
       "      <td>72.0</td>\n",
       "      <td>81.2</td>\n",
       "      <td>320.0</td>\n",
       "      <td>82.4</td>\n",
       "      <td>406.0</td>\n",
       "      <td>82.1</td>\n",
       "    </tr>\n",
       "  </tbody>\n",
       "</table>\n",
       "</div>"
      ],
      "text/plain": [
       "           NEIGHBORHOOD  BLACKdeaths  Black MD AGE AT DEATH  WHITEdeaths  \\\n",
       "89  SQUIRREL HILL SOUTH         58.0                   83.2        721.0   \n",
       "76        NORTH OAKLAND         45.0                   70.9        227.0   \n",
       "71           BANKSVILLE          4.0                    NaN        247.0   \n",
       "53         POINT BREEZE         13.0                   66.7        158.0   \n",
       "68  SQUIRREL HILL NORTH          6.0                   75.0        231.0   \n",
       "20      CENTRAL OAKLAND          2.0                    NaN         50.0   \n",
       "28        NEW HOMESTEAD          4.0                    NaN         67.0   \n",
       "27       SWISSHELM PARK          0.0                    0.0         67.0   \n",
       "77            OVERBROOK          4.0                    NaN        284.0   \n",
       "83            SHADYSIDE         72.0                   81.2        320.0   \n",
       "\n",
       "    White MD AGE AT DEATH  TOTALdeaths*  TOTAL MD AGE AT DEATH  \n",
       "89                   86.2         802.0                   85.9  \n",
       "76                   86.8         279.0                   85.6  \n",
       "71                   85.5         253.0                   85.5  \n",
       "53                   85.7         175.0                   85.1  \n",
       "68                   85.3         242.0                   85.0  \n",
       "20                   84.0          52.0                   84.0  \n",
       "28                   83.8          71.0                   83.4  \n",
       "27                   83.1          67.0                   83.1  \n",
       "77                   82.5         289.0                   82.2  \n",
       "83                   82.4         406.0                   82.1  "
      ]
     },
     "execution_count": 48,
     "metadata": {},
     "output_type": "execute_result"
    }
   ],
   "source": [
    "import pandas as pd\n",
    "\n",
    "death = pd.read_csv(\"https://data.wprdc.org/dataset/ee735209-4de7-4ea4-b446-bf0f0f6d9cb3/resource/c2e1500a-a12a-4e91-be94-76c6a892b7e2/download/nhoodmedianage20112015.csv\",parse_dates=True)\n",
    "#death.head(10)\n",
    "death10=death.sort_values(by=[\"TOTAL MD AGE AT DEATH\"], ascending=False).head(10)\n",
    "death10"
   ]
  },
  {
   "cell_type": "code",
   "execution_count": 49,
   "metadata": {},
   "outputs": [
    {
     "data": {
      "text/plain": [
       "<matplotlib.axes._subplots.AxesSubplot at 0x7fc4765a4550>"
      ]
     },
     "execution_count": 49,
     "metadata": {},
     "output_type": "execute_result"
    },
    {
     "data": {
      "image/png": "[encoded data removed]",
      "text/plain": [
       "<Figure size 432x288 with 1 Axes>"
      ]
     },
     "metadata": {
      "needs_background": "light"
     },
     "output_type": "display_data"
    }
   ],
   "source": [
    "death10.plot.bar(y=[\"TOTAL MD AGE AT DEATH\"], rot=0)"
   ]
  },
  {
   "cell_type": "code",
   "execution_count": null,
   "metadata": {},
   "outputs": [],
   "source": []
  }
 ],
 "metadata": {
  "kernelspec": {
   "display_name": "Python 3",
   "language": "python",
   "name": "python3"
  },
  "language_info": {
   "codemirror_mode": {
    "name": "ipython",
    "version": 3
   },
   "file_extension": ".py",
   "mimetype": "text/x-python",
   "name": "python",
   "nbconvert_exporter": "python",
   "pygments_lexer": "ipython3",
   "version": "3.8.3"
  }
 },
 "nbformat": 4,
 "nbformat_minor": 4
}
