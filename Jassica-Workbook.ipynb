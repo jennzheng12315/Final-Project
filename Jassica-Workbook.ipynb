{
 "cells": [
  {
   "cell_type": "markdown",
   "metadata": {},
   "source": [
    "Link to dataset: https://data.wprdc.org/dataset/median-age-death/resource/c2e1500a-a12a-4e91-be94-76c6a892b7e2\n"
   ]
  },
  {
   "cell_type": "code",
   "execution_count": 34,
   "metadata": {},
   "outputs": [
    {
     "data": {
      "text/html": [
       "<div>\n",
       "<style scoped>\n",
       "    .dataframe tbody tr th:only-of-type {\n",
       "        vertical-align: middle;\n",
       "    }\n",
       "\n",
       "    .dataframe tbody tr th {\n",
       "        vertical-align: top;\n",
       "    }\n",
       "\n",
       "    .dataframe thead th {\n",
       "        text-align: right;\n",
       "    }\n",
       "</style>\n",
       "<table border=\"1\" class=\"dataframe\">\n",
       "  <thead>\n",
       "    <tr style=\"text-align: right;\">\n",
       "      <th></th>\n",
       "      <th>TOTAL MD AGE AT DEATH</th>\n",
       "    </tr>\n",
       "    <tr>\n",
       "      <th>NEIGHBORHOOD</th>\n",
       "      <th></th>\n",
       "    </tr>\n",
       "  </thead>\n",
       "  <tbody>\n",
       "    <tr>\n",
       "      <th>SQUIRREL HILL SOUTH</th>\n",
       "      <td>85.9</td>\n",
       "    </tr>\n",
       "    <tr>\n",
       "      <th>NORTH OAKLAND</th>\n",
       "      <td>85.6</td>\n",
       "    </tr>\n",
       "    <tr>\n",
       "      <th>BANKSVILLE</th>\n",
       "      <td>85.5</td>\n",
       "    </tr>\n",
       "    <tr>\n",
       "      <th>POINT BREEZE</th>\n",
       "      <td>85.1</td>\n",
       "    </tr>\n",
       "    <tr>\n",
       "      <th>SQUIRREL HILL NORTH</th>\n",
       "      <td>85.0</td>\n",
       "    </tr>\n",
       "    <tr>\n",
       "      <th>...</th>\n",
       "      <td>...</td>\n",
       "    </tr>\n",
       "    <tr>\n",
       "      <th>FAIRYWOOD</th>\n",
       "      <td>53.3</td>\n",
       "    </tr>\n",
       "    <tr>\n",
       "      <th>SOUTH SHORE</th>\n",
       "      <td>0.0</td>\n",
       "    </tr>\n",
       "    <tr>\n",
       "      <th>CHATEAU</th>\n",
       "      <td>NaN</td>\n",
       "    </tr>\n",
       "    <tr>\n",
       "      <th>NaN</th>\n",
       "      <td>NaN</td>\n",
       "    </tr>\n",
       "    <tr>\n",
       "      <th>*Total includes Other and Unknown race.</th>\n",
       "      <td>NaN</td>\n",
       "    </tr>\n",
       "  </tbody>\n",
       "</table>\n",
       "<p>92 rows × 1 columns</p>\n",
       "</div>"
      ],
      "text/plain": [
       "                                         TOTAL MD AGE AT DEATH\n",
       "NEIGHBORHOOD                                                  \n",
       "SQUIRREL HILL SOUTH                                       85.9\n",
       "NORTH OAKLAND                                             85.6\n",
       "BANKSVILLE                                                85.5\n",
       "POINT BREEZE                                              85.1\n",
       "SQUIRREL HILL NORTH                                       85.0\n",
       "...                                                        ...\n",
       "FAIRYWOOD                                                 53.3\n",
       "SOUTH SHORE                                                0.0\n",
       "CHATEAU                                                    NaN\n",
       "NaN                                                        NaN\n",
       "*Total includes Other and Unknown race.                    NaN\n",
       "\n",
       "[92 rows x 1 columns]"
      ]
     },
     "execution_count": 34,
     "metadata": {},
     "output_type": "execute_result"
    }
   ],
   "source": [
    "import pandas as pd\n",
    "\n",
    "death = pd.read_csv(\"https://data.wprdc.org/dataset/ee735209-4de7-4ea4-b446-bf0f0f6d9cb3/resource/c2e1500a-a12a-4e91-be94-76c6a892b7e2/download/nhoodmedianage20112015.csv\", parse_dates=True, )\n",
    "#death.head(10)\n",
    "#death.set_index('NEIGHBORHOOD')\n",
    "death10=death.sort_values(by=[\"TOTAL MD AGE AT DEATH\"], ascending=False)\n",
    "dropped=death10.drop(columns=['BLACKdeaths','Black MD AGE AT DEATH', 'WHITEdeaths','White MD AGE AT DEATH','TOTALdeaths*'])\n",
    "dropped.set_index('NEIGHBORHOOD')"
   ]
  },
  {
   "cell_type": "code",
   "execution_count": 49,
   "metadata": {},
   "outputs": [
    {
     "data": {
      "text/plain": [
       "<matplotlib.axes._subplots.AxesSubplot at 0x7fc4765a4550>"
      ]
     },
     "execution_count": 49,
     "metadata": {},
     "output_type": "execute_result"
    },
    {
     "data": {
      "image/png": "[encoded data removed]",
      "text/plain": [
       "<Figure size 432x288 with 1 Axes>"
      ]
     },
     "metadata": {
      "needs_background": "light"
     },
     "output_type": "display_data"
    }
   ],
   "source": [
    "death10.plot.bar(y=[\"TOTAL MD AGE AT DEATH\"], rot=0)"
   ]
  },
  {
   "cell_type": "code",
   "execution_count": 39,
   "metadata": {},
   "outputs": [
    {
     "name": "stdout",
     "output_type": "stream",
     "text": [
      "TOTAL MD AGE AT DEATH    85.9\n",
      "Rating                   10.0\n",
      "dtype: float64\n"
     ]
    },
    {
     "data": {
      "text/html": [
       "<div>\n",
       "<style scoped>\n",
       "    .dataframe tbody tr th:only-of-type {\n",
       "        vertical-align: middle;\n",
       "    }\n",
       "\n",
       "    .dataframe tbody tr th {\n",
       "        vertical-align: top;\n",
       "    }\n",
       "\n",
       "    .dataframe thead th {\n",
       "        text-align: right;\n",
       "    }\n",
       "</style>\n",
       "<table border=\"1\" class=\"dataframe\">\n",
       "  <thead>\n",
       "    <tr style=\"text-align: right;\">\n",
       "      <th></th>\n",
       "      <th>TOTAL MD AGE AT DEATH</th>\n",
       "      <th>Rating</th>\n",
       "    </tr>\n",
       "    <tr>\n",
       "      <th>NEIGHBORHOOD</th>\n",
       "      <th></th>\n",
       "      <th></th>\n",
       "    </tr>\n",
       "  </thead>\n",
       "  <tbody>\n",
       "    <tr>\n",
       "      <th>SQUIRREL HILL SOUTH</th>\n",
       "      <td>85.9</td>\n",
       "      <td>10.000000</td>\n",
       "    </tr>\n",
       "    <tr>\n",
       "      <th>NORTH OAKLAND</th>\n",
       "      <td>85.6</td>\n",
       "      <td>9.965076</td>\n",
       "    </tr>\n",
       "    <tr>\n",
       "      <th>BANKSVILLE</th>\n",
       "      <td>85.5</td>\n",
       "      <td>9.953434</td>\n",
       "    </tr>\n",
       "    <tr>\n",
       "      <th>POINT BREEZE</th>\n",
       "      <td>85.1</td>\n",
       "      <td>9.906868</td>\n",
       "    </tr>\n",
       "    <tr>\n",
       "      <th>SQUIRREL HILL NORTH</th>\n",
       "      <td>85.0</td>\n",
       "      <td>9.895227</td>\n",
       "    </tr>\n",
       "    <tr>\n",
       "      <th>...</th>\n",
       "      <td>...</td>\n",
       "      <td>...</td>\n",
       "    </tr>\n",
       "    <tr>\n",
       "      <th>FAIRYWOOD</th>\n",
       "      <td>53.3</td>\n",
       "      <td>6.204889</td>\n",
       "    </tr>\n",
       "    <tr>\n",
       "      <th>SOUTH SHORE</th>\n",
       "      <td>0.0</td>\n",
       "      <td>0.000000</td>\n",
       "    </tr>\n",
       "    <tr>\n",
       "      <th>CHATEAU</th>\n",
       "      <td>NaN</td>\n",
       "      <td>NaN</td>\n",
       "    </tr>\n",
       "    <tr>\n",
       "      <th>NaN</th>\n",
       "      <td>NaN</td>\n",
       "      <td>NaN</td>\n",
       "    </tr>\n",
       "    <tr>\n",
       "      <th>*Total includes Other and Unknown race.</th>\n",
       "      <td>NaN</td>\n",
       "      <td>NaN</td>\n",
       "    </tr>\n",
       "  </tbody>\n",
       "</table>\n",
       "<p>92 rows × 2 columns</p>\n",
       "</div>"
      ],
      "text/plain": [
       "                                         TOTAL MD AGE AT DEATH     Rating\n",
       "NEIGHBORHOOD                                                             \n",
       "SQUIRREL HILL SOUTH                                       85.9  10.000000\n",
       "NORTH OAKLAND                                             85.6   9.965076\n",
       "BANKSVILLE                                                85.5   9.953434\n",
       "POINT BREEZE                                              85.1   9.906868\n",
       "SQUIRREL HILL NORTH                                       85.0   9.895227\n",
       "...                                                        ...        ...\n",
       "FAIRYWOOD                                                 53.3   6.204889\n",
       "SOUTH SHORE                                                0.0   0.000000\n",
       "CHATEAU                                                    NaN        NaN\n",
       "NaN                                                        NaN        NaN\n",
       "*Total includes Other and Unknown race.                    NaN        NaN\n",
       "\n",
       "[92 rows x 2 columns]"
      ]
     },
     "execution_count": 39,
     "metadata": {},
     "output_type": "execute_result"
    }
   ],
   "source": [
    "\n",
    "rate=pd.DataFrame(dropped)\n",
    "#rate.groupby(\"NEIGHBORHOOD\")\n",
    "highest=rate.max()\n",
    "print(highest)\n",
    "rate[\"Rating\"]=((rate['TOTAL MD AGE AT DEATH']/85.9)*10)\n",
    "rate.head()\n",
    "rate.set_index('NEIGHBORHOOD')\n",
    "#rate['Rating'].plot.bar(figsize=(20,5), y='NEIGHBORHOOD')\n"
   ]
  }
 ],
 "metadata": {
  "kernelspec": {
   "display_name": "Python 3",
   "language": "python",
   "name": "python3"
  },
  "language_info": {
   "codemirror_mode": {
    "name": "ipython",
    "version": 3
   },
   "file_extension": ".py",
   "mimetype": "text/x-python",
   "name": "python",
   "nbconvert_exporter": "python",
   "pygments_lexer": "ipython3",
   "version": "3.8.3"
  }
 },
 "nbformat": 4,
 "nbformat_minor": 4
}
